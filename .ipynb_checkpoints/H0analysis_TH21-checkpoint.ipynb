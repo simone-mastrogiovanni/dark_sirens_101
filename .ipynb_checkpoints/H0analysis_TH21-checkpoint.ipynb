{
 "cells": [
  {
   "cell_type": "code",
   "execution_count": 1,
   "id": "8a8b4683-cd2a-441c-a6c0-abdf9113645e",
   "metadata": {},
   "outputs": [],
   "source": [
    "from gal4H0 import *\n",
    "np.random.seed(0)\n",
    "true_cosmology = FlatLambdaCDM(H0=70.,Om0=0.25)"
   ]
  },
  {
   "cell_type": "markdown",
   "id": "bb98da5b-e11a-43be-8e8c-b446661ef1c0",
   "metadata": {},
   "source": [
    "## Incosistency 1: $z^4$\n",
    "\n",
    "We study the bias on $H_0$ when GW events are distributed as $p_{\\rm cat}(z)^2$ while in the analysis we just account for $p_{\\rm cat}(z)$. "
   ]
  },
  {
   "cell_type": "code",
   "execution_count": 2,
   "id": "b776c846-962c-4a95-817d-6cd154fc4aa5",
   "metadata": {},
   "outputs": [
    {
     "data": {
      "text/plain": [
       "0.03024"
      ]
     },
     "execution_count": 2,
     "metadata": {},
     "output_type": "execute_result"
    }
   ],
   "source": [
    "galaxies_list = np.genfromtxt('MICECAT_LOS/micecat_905.csv',skip_header=1)\n",
    "galaxies_list.min()"
   ]
  },
  {
   "cell_type": "code",
   "execution_count": 4,
   "id": "ba7f4b72-5c51-422c-9bd3-527c2ce04265",
   "metadata": {},
   "outputs": [
    {
     "name": "stdout",
     "output_type": "stream",
     "text": [
      "MICECAT_LOS/micecat_451.csv\n"
     ]
    },
    {
     "name": "stderr",
     "output_type": "stream",
     "text": [
      " 23%|█████████▏                             | 498/2125 [00:02<00:07, 212.93it/s]\n"
     ]
    },
    {
     "ename": "KeyboardInterrupt",
     "evalue": "",
     "output_type": "error",
     "traceback": [
      "\u001b[0;31m---------------------------------------------------------------------------\u001b[0m",
      "\u001b[0;31mKeyboardInterrupt\u001b[0m                         Traceback (most recent call last)",
      "Cell \u001b[0;32mIn [4], line 19\u001b[0m\n\u001b[1;32m     17\u001b[0m sigmaz[sigmaz\u001b[38;5;241m>\u001b[39m\u001b[38;5;241m0.015\u001b[39m]\u001b[38;5;241m=\u001b[39m\u001b[38;5;241m0.015\u001b[39m\n\u001b[1;32m     18\u001b[0m z_obs\u001b[38;5;241m=\u001b[39mnp\u001b[38;5;241m.\u001b[39mrandom\u001b[38;5;241m.\u001b[39mrandn(\u001b[38;5;28mlen\u001b[39m(galaxies_list))\u001b[38;5;241m*\u001b[39msigmaz\u001b[38;5;241m+\u001b[39mgalaxies_list\n\u001b[0;32m---> 19\u001b[0m zinterpo,zinterpolant\u001b[38;5;241m=\u001b[39m\u001b[43mbuild_interpolant\u001b[49m\u001b[43m(\u001b[49m\u001b[43mz_obs\u001b[49m\u001b[43m,\u001b[49m\u001b[43msigmaz\u001b[49m\u001b[43m,\u001b[49m\u001b[43mzcut_rate\u001b[49m\u001b[43m)\u001b[49m\n\u001b[1;32m     21\u001b[0m \u001b[38;5;28;01mfor\u001b[39;00m sigma \u001b[38;5;129;01min\u001b[39;00m sigmas:\n\u001b[1;32m     22\u001b[0m     \u001b[38;5;28mprint\u001b[39m(sigma)\n",
      "File \u001b[0;32m~/git_repositories/dark_sirens_101/gal4H0.py:119\u001b[0m, in \u001b[0;36mbuild_interpolant\u001b[0;34m(z_obs, sigmazevalobs, zrate, nocom)\u001b[0m\n\u001b[1;32m    117\u001b[0m pval\u001b[38;5;241m=\u001b[39mnormal_distribution(zeval,mu\u001b[38;5;241m=\u001b[39mz_obs[i],sigma\u001b[38;5;241m=\u001b[39msigmazeval)\u001b[38;5;241m*\u001b[39mdvcdz\n\u001b[1;32m    118\u001b[0m normfact\u001b[38;5;241m=\u001b[39mscipy\u001b[38;5;241m.\u001b[39mintegrate\u001b[38;5;241m.\u001b[39msimpson(pval,zeval) \u001b[38;5;66;03m# Renormalize\u001b[39;00m\n\u001b[0;32m--> 119\u001b[0m evals\u001b[38;5;241m=\u001b[39m\u001b[43mnormal_distribution\u001b[49m\u001b[43m(\u001b[49m\u001b[43mzinterpolant\u001b[49m\u001b[43m,\u001b[49m\u001b[43mmu\u001b[49m\u001b[38;5;241;43m=\u001b[39;49m\u001b[43mz_obs\u001b[49m\u001b[43m[\u001b[49m\u001b[43mi\u001b[49m\u001b[43m]\u001b[49m\u001b[43m,\u001b[49m\u001b[43msigma\u001b[49m\u001b[38;5;241;43m=\u001b[39;49m\u001b[43msigmaz\u001b[49m\u001b[43m)\u001b[49m\u001b[38;5;241m*\u001b[39mdvcdz_ff\u001b[38;5;241m/\u001b[39mnormfact\n\u001b[1;32m    120\u001b[0m \u001b[38;5;28;01mif\u001b[39;00m np\u001b[38;5;241m.\u001b[39mall(np\u001b[38;5;241m.\u001b[39misnan(evals)):\n\u001b[1;32m    121\u001b[0m     \u001b[38;5;28;01mcontinue\u001b[39;00m\n",
      "File \u001b[0;32m~/git_repositories/dark_sirens_101/gal4H0.py:44\u001b[0m, in \u001b[0;36mnormal_distribution\u001b[0;34m(x, mu, sigma)\u001b[0m\n\u001b[1;32m     33\u001b[0m \u001b[38;5;124;03m'''\u001b[39;00m\n\u001b[1;32m     34\u001b[0m \u001b[38;5;124;03mReuturns a simple gaussian likelihood:\u001b[39;00m\n\u001b[1;32m     35\u001b[0m \u001b[38;5;124;03m\u001b[39;00m\n\u001b[0;32m   (...)\u001b[0m\n\u001b[1;32m     41\u001b[0m \u001b[38;5;124;03m    Mean and standard deviation of gaussian\u001b[39;00m\n\u001b[1;32m     42\u001b[0m \u001b[38;5;124;03m'''\u001b[39;00m\n\u001b[1;32m     43\u001b[0m var\u001b[38;5;241m=\u001b[39msigma\u001b[38;5;241m*\u001b[39m\u001b[38;5;241m*\u001b[39m\u001b[38;5;241m2\u001b[39m\n\u001b[0;32m---> 44\u001b[0m \u001b[38;5;28;01mreturn\u001b[39;00m np\u001b[38;5;241m.\u001b[39mpower(\u001b[38;5;241m2\u001b[39m\u001b[38;5;241m*\u001b[39mnp\u001b[38;5;241m.\u001b[39mpi\u001b[38;5;241m*\u001b[39mvar,\u001b[38;5;241m-\u001b[39m\u001b[38;5;241m0.5\u001b[39m)\u001b[38;5;241m*\u001b[39mnp\u001b[38;5;241m.\u001b[39mexp(\u001b[38;5;241m-\u001b[39m\u001b[38;5;241m0.5\u001b[39m\u001b[38;5;241m*\u001b[39m\u001b[43mnp\u001b[49m\u001b[38;5;241;43m.\u001b[39;49m\u001b[43mpower\u001b[49m\u001b[43m(\u001b[49m\u001b[43m(\u001b[49m\u001b[43mx\u001b[49m\u001b[38;5;241;43m-\u001b[39;49m\u001b[43mmu\u001b[49m\u001b[43m)\u001b[49m\u001b[38;5;241;43m/\u001b[39;49m\u001b[43msigma\u001b[49m\u001b[43m,\u001b[49m\u001b[38;5;241;43m2.\u001b[39;49m\u001b[43m)\u001b[49m)\n",
      "\u001b[0;31mKeyboardInterrupt\u001b[0m: "
     ]
    }
   ],
   "source": [
    "LOSf=['MICECAT_LOS/micecat_451.csv','MICECAT_LOS/micecat_455.csv',\n",
    "     'MICECAT_LOS/micecat_901.csv','MICECAT_LOS/micecat_905.csv']\n",
    "\n",
    "sigmas=[0.1,0.2,0.3]\n",
    "Ngw=1000000\n",
    "zcut_rate=1.0\n",
    "dl_thr=1550\n",
    "H0_array=np.linspace(40,120,200)\n",
    "\n",
    "posteriors={'H0_grid':H0_array}\n",
    "\n",
    "for ilos in LOSf:\n",
    "    print(ilos)\n",
    "    galaxies_list = np.genfromtxt(ilos,skip_header=1)\n",
    "\n",
    "    sigmaz=0.013*np.power(1+galaxies_list,3.)\n",
    "    sigmaz[sigmaz>0.015]=0.015\n",
    "    z_obs=np.random.randn(len(galaxies_list))*sigmaz+galaxies_list\n",
    "    zinterpo,zinterpolant=build_interpolant(z_obs,sigmaz,zcut_rate)\n",
    "    \n",
    "    for sigma in sigmas:\n",
    "        print(sigma)\n",
    "        sigma_dl=sigma\n",
    "        gw_obs_dl,gw_true_dl,gw_redshift,std_dl=draw_gw_events(10000,sigma_dl,dl_thr,galaxies_list,true_cosmology,zcut_rate)        \n",
    "        pextra=np.exp(zinterpo(gw_redshift))\n",
    "        idxextra=np.random.choice(len(pextra),size=200,p=pextra/pextra.sum())\n",
    "        gw_obs_dl,gw_true_dl,gw_redshift,std_dl=gw_obs_dl[idxextra],gw_true_dl[idxextra],gw_redshift[idxextra],std_dl[idxextra]\n",
    "        posterior_matrix,combined=galaxy_catalog_analysis_photo_redshift(H0_array,zinterpo,gw_obs_dl,sigma_dl,dl_thr)\n",
    "        \n",
    "        posteriors[ilos+'_'+str(sigma)+'_'+'signle']=posterior_matrix\n",
    "        posteriors[ilos+'_'+str(sigma)+'_'+'combined']=combined\n"
   ]
  },
  {
   "cell_type": "code",
   "execution_count": null,
   "id": "5ab4f7e5-c2ff-4b3e-8a67-6c8e765a141f",
   "metadata": {},
   "outputs": [],
   "source": [
    "fig, ax= plt.subplots(3,1,figsize=(3.5,4.5),sharex=True)\n",
    "\n",
    "pal=sns.color_palette('Set3')\n",
    "\n",
    "colors=[pal[0],pal[1],pal[2],pal[3]]\n",
    "lines=['solid','--',':']\n",
    "\n",
    "labels_1=[r'$D_{11}$',\n",
    "        r'$D_{15}$',\n",
    "        r'$D_{21}$',\n",
    "        r'$D_{25}$']\n",
    "\n",
    "labels_2=[r'$\\sigma_{d_L}/d_L=10\\%$',\n",
    "         r'$\\sigma_{d_L}/d_L=20\\%$',\n",
    "         r'$\\sigma_{d_L}/d_L=30\\%$']\n",
    "\n",
    "\n",
    "for i in range(len(colors)):\n",
    "    for j in range(len(lines)):\n",
    "        ilos=LOSf[i]\n",
    "        sigma=sigmas[j]\n",
    "        ax[j].plot(H0_array,posteriors[ilos+'_'+str(sigma)+'_'+'combined'],ls='solid',color=colors[i],label=labels_1[i])\n",
    "\n",
    "for j in range(3):\n",
    "    ax[j].axvline(70.,ls='--',color='k',label='Truth')\n",
    "    ax[j].set_xlim([40,120])    \n",
    "    ax[j].yaxis.set_ticklabels([])\n",
    "    ax[j].set_ylabel(r'Posterior ${\\rm[km^{-1} \\,s \\,Mpc]}$'+'\\n'+'('+labels_2[j]+')',fontsize=6)\n",
    "\n",
    "ax[0].legend(frameon=False,ncol=2)\n",
    "ax[0].set_title('Inconsistency 1: GW redshift profile')\n",
    "\n",
    "ax[2].set_xlabel(r'$H_0 {\\rm[km \\,s^{-1} \\,Mpc^{-1}]}$')\n",
    "#plt.tight_layout()\n",
    "plt.savefig('figures_paper/big_fig_doublecount.pdf')\n",
    "\n"
   ]
  },
  {
   "cell_type": "markdown",
   "id": "f9384cbb-96bc-44ec-a3db-cc14bc43f938",
   "metadata": {},
   "source": [
    "# Inconsistency 2: GW detection probability\n",
    "\n",
    "Below we generate the Hubble constant posterior mismatching the GW detection probability in the analysis. Everything is done correcntly but then the GW detection probability is assumed to be an Heaviside step function\n",
    "\n",
    "\n"
   ]
  },
  {
   "cell_type": "code",
   "execution_count": null,
   "id": "7eac08ea-1b98-43ca-bf97-f8df3af90ef2",
   "metadata": {},
   "outputs": [],
   "source": [
    "np.random.seed(0) # Reset the random seed"
   ]
  },
  {
   "cell_type": "code",
   "execution_count": null,
   "id": "4362c963-30a5-4e6b-8a8c-e426b6b3a8ba",
   "metadata": {},
   "outputs": [],
   "source": [
    "# We generate multiple H0 posterior for 200 events, different LOS and dl errors\n",
    "\n",
    "LOSf=['MICECAT_LOS/micecat_451.csv','MICECAT_LOS/micecat_455.csv',\n",
    "     'MICECAT_LOS/micecat_901.csv','MICECAT_LOS/micecat_905.csv']\n",
    "\n",
    "sigmas=[0.1,0.2,0.3]\n",
    "Ngw=200\n",
    "zcut_rate=1.0\n",
    "dl_thr=1550\n",
    "H0_array=np.linspace(40,120,100)\n",
    "\n",
    "posteriors={'H0_grid':H0_array}\n",
    "\n",
    "for ilos in LOSf:\n",
    "    print(ilos)\n",
    "    galaxies_list = np.genfromtxt(ilos,skip_header=1)\n",
    "\n",
    "    sigmaz=0.013*np.power(1+galaxies_list,3.)\n",
    "    sigmaz[sigmaz>0.015]=0.015\n",
    "    z_obs=np.random.randn(len(galaxies_list))*sigmaz+galaxies_list\n",
    "    zinterpo,zinterpolant=build_interpolant(z_obs,sigmaz,zcut_rate)\n",
    "    \n",
    "    for sigma in sigmas:\n",
    "        print(sigma)\n",
    "        sigma_dl=sigma\n",
    "        gw_obs_dl,_,_,std_dl=draw_gw_events(Ngw,sigma_dl,dl_thr,galaxies_list,true_cosmology,zcut_rate)\n",
    "        posterior_matrix,combined=galaxy_catalog_analysis_photo_redshift_TH21(H0_array,zinterpo,gw_obs_dl,sigma_dl,dl_thr)\n",
    "        \n",
    "        posteriors[ilos+'_'+str(sigma)+'_'+'signle']=posterior_matrix\n",
    "        posteriors[ilos+'_'+str(sigma)+'_'+'combined']=combined\n"
   ]
  },
  {
   "cell_type": "code",
   "execution_count": null,
   "id": "7c928508-4474-4f3d-8439-0d99b72325ff",
   "metadata": {},
   "outputs": [],
   "source": [
    "fig, ax= plt.subplots(3,1,figsize=(3.5,4.5),sharex=True)\n",
    "\n",
    "pal=sns.color_palette('Set3')\n",
    "\n",
    "colors=[pal[0],pal[1],pal[2],pal[3]]\n",
    "lines=['solid','--',':']\n",
    "\n",
    "labels_1=[r'$D_{11}$',\n",
    "        r'$D_{15}$',\n",
    "        r'$D_{21}$',\n",
    "        r'$D_{25}$']\n",
    "\n",
    "labels_2=[r'$\\sigma_{d_L}/d_L=10\\%$',\n",
    "         r'$\\sigma_{d_L}/d_L=20\\%$',\n",
    "         r'$\\sigma_{d_L}/d_L=30\\%$']\n",
    "\n",
    "\n",
    "for i in range(len(colors)):\n",
    "    for j in range(len(lines)):\n",
    "        ilos=LOSf[i]\n",
    "        sigma=sigmas[j]\n",
    "        ax[j].plot(H0_array,posteriors[ilos+'_'+str(sigma)+'_'+'combined'],ls='solid',color=colors[i],label=labels_1[i])\n",
    "\n",
    "for j in range(3):\n",
    "    ax[j].axvline(70.,ls='--',color='k',label='Truth')\n",
    "    ax[j].set_xlim([40,120])    \n",
    "    ax[j].yaxis.set_ticklabels([])\n",
    "    ax[j].set_ylabel(r'Posterior ${\\rm[km^{-1} \\,s \\,Mpc]}$'+'\\n'+'('+labels_2[j]+')',fontsize=6)\n",
    "\n",
    "ax[0].legend(frameon=False,ncol=2)\n",
    "ax[0].set_title('Inconsistency 2: Detection probability')\n",
    "\n",
    "ax[2].set_xlabel(r'$H_0 {\\rm[km \\,s^{-1} \\,Mpc^{-1}]}$')\n",
    "#plt.tight_layout()\n",
    "plt.savefig('figures_paper/big_fig_heaviside.pdf')\n",
    "\n"
   ]
  },
  {
   "cell_type": "code",
   "execution_count": null,
   "id": "ebdc43e0-4e51-4931-80f1-f4dd5f5629c0",
   "metadata": {},
   "outputs": [],
   "source": []
  }
 ],
 "metadata": {
  "kernelspec": {
   "display_name": "Python 3 (ipykernel)",
   "language": "python",
   "name": "python3"
  },
  "language_info": {
   "codemirror_mode": {
    "name": "ipython",
    "version": 3
   },
   "file_extension": ".py",
   "mimetype": "text/x-python",
   "name": "python",
   "nbconvert_exporter": "python",
   "pygments_lexer": "ipython3",
   "version": "3.8.14"
  }
 },
 "nbformat": 4,
 "nbformat_minor": 5
}
